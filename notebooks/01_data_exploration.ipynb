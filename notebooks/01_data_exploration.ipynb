# %% [markdown]
# # 📊 Salary Data EDA
# Exploration of `../data/Salary_Data.csv`

# %%
import pandas as pd
import matplotlib.pyplot as plt

# Load data
df = pd.read_csv("../data/Salary_Data.csv")
print("Data shape:", df.shape)
df.head()

# %%
# Distribution Plot
plt.figure(figsize=(10,5))
plt.scatter(df['YearsExperience'], df['Salary'])
plt.title("Experience vs Salary")
plt.xlabel("Years of Experience")
plt.ylabel("Salary ($)")
plt.savefig("../notebooks/assets/raw_data_sample.png", dpi=120)
