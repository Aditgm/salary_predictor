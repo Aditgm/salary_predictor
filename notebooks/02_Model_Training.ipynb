
# # 🧠 Model Training
# Using `LinearRegressor` from `../salary_predictor/core.py`

import numpy as np
from salary_predictor import LinearRegressor
from salary_predictor.preprocessing import normalize

X = df['YearsExperience'].values
y = df['Salary'].values
X_norm = normalize(X)

model = LinearRegressor(lr=0.01, max_iter=1000)
loss_history = model.fit(X_norm, y)


model.plot_training()
plt.savefig("../notebooks/assets/training_curve.png")
